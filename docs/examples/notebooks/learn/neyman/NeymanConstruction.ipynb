{
 "cells": [
  {
   "cell_type": "code",
   "execution_count": 1,
   "metadata": {},
   "outputs": [],
   "source": [
    "import scipy.stats\n",
    "import numpy as np\n",
    "import matplotlib.pyplot as plt"
   ]
  },
  {
   "cell_type": "markdown",
   "metadata": {},
   "source": [
    "## Frequentist Interval Estimation via Neyman Construction\n",
    "\n",
    "<p style=\"font-size: 16px; width: 50%;\">\n",
    "The goal of <emph>interval estimation</emph> in frequentist inference is the construction of intervals from observed data with definite statistical properties. Since the data is the result of a stochastic process, the intervals are also stochastic objects. This is similar to how a maximum-likelihood estimate, which is also constructed from the observed data is a random object.\n",
    "</p>\n",
    "\n",
    "### Coverage of parameter values\n",
    "\n",
    "<p style=\"font-size: 16px; width: 50%;\">\n",
    "An important property of an interval $y$ constructed from data $x$ $y = (x) = [a,b]$ is whether a given parameter value is within the interval bounds in which case we say the interval \"covers\" the value.\n",
    "</p>\n",
    "<p style=\"font-size: 16px; width: 50%;\">\n",
    "Given an ensemble of data $x \\sim p(x|\\mu)$ an interesting number is the number of intervals (one constructed from each draw $x$) which cover the parameter value from which the data originated -- this is the coverage of $\\mu$.\n",
    "</p>\n",
    "<p style=\"font-size: 16px; width: 50%;\">\n",
    "In interval estimation the goal is to find a procedure to such intervals that yields a known coverage value. A tyical example are $95\\%$ confidence intervals, where the probability of observing data, whose corresponding interval covers the true value of the underlying parameter is 95%.\n",
    "</p>\n",
    "\n",
    "### Neyman Construction - Intervals from a series of hypothesis tests\n",
    "<p style=\"font-size: 16px; width: 50%;\">\n",
    "To construct intervals for  $x$, we need to decide whether a given value $\\mu$ is inside the $x$'s interval, i.e. we need a map\n",
    "$$(x,\\mu) \\to \\{\\text{in interval},\\text{out of internal}\\} $$\n",
    "This is nothing but a hypothesis test, in which for some $\\mu$ we either decide for a given $x$ whether to accept or reject the model with pararmeter $\\mu$\n",
    "$$(x,\\mu) \\to \\{\\text{accept},\\text{reject}\\} $$\n",
    "<br/>\n",
    "In both cases it's a map $(x,\\mu) \\to \\{\\text{yes},\\text{no}\\}$!. This means that given a hypothesis testing procedure, we can construct intervals of $x$ by defining it as the union of all parameter values for which the hypothesis is not rejected based on the observation of $x$.\n",
    "The coverage follows directly: if for data $x~p(x|mu)$\n",
    "Given a model $p(x|\\mu)$ the set of x-value which case the hypothesis $\\mu$ to be accepted by constuction also have assoociated intervals in which $\\mu$ is included. If 95% of values $x$ cause the model to be accepted, that immediatly implies 95% of intervals include $\\mu$.\n",
    "</p>\n"
   ]
  },
  {
   "cell_type": "markdown",
   "metadata": {},
   "source": [
    " < a standard neyman construction plot here >"
   ]
  },
  {
   "cell_type": "markdown",
   "metadata": {},
   "source": [
    "### Right-tail Hypothesis Tests\n",
    "\n",
    "<p style=\"font-size: 16px; width: 50%;\">\n",
    "Let's look at a few ways to do hypothesis tests (and thus construct intervals). As usual we will conduct hypothesis tests for a given parameter $\\mu$ by defining a test statistic  $t_\\mu(x)$\n",
    "</p>\n",
    "\n",
    "<p style=\"font-size: 16px; width: 50%;\">\n",
    "$$t_\\mu(x) = -2\\log\\frac{L(\\mu,\\hat{\\hat{\\theta}}|x)}{L(\\hat{\\mu},\\hat{\\theta}|x)}$$\n",
    "</p>\n",
    "#### Asymptotic Behavior of the Profile Likelhoood (Wald)\n",
    "\n",
    "<p style=\"font-size: 16px; width: 50%;\">\n",
    "Asymptotically, the $t_\\mu(x)$ can be put into relation to the best-fit value $\\hat{\\mu}(x)$. Maximum likelhood estimates are asymptotically normal. Meaning that they are normally distributed around the true value of parameter\n",
    "</br>\n",
    "$$\\mu \\sim N(\\mu',\\sigma)$$\n",
    "</br>\n",
    "and this relation holds\n",
    "</br>\n",
    "$$t_\\mu = \\frac{(\\mu-\\hat\\mu)^2}{\\sigma^2}$$\n",
    "</br>\n",
    "We can look at those two distributions change into each other by loooking at a joint plot\n",
    "</p>"
   ]
  },
  {
   "cell_type": "code",
   "execution_count": 2,
   "metadata": {},
   "outputs": [],
   "source": [
    "def jointplot(mu,teststat,tcut = 4):\n",
    "    f,axarr = plt.subplots(2,2)\n",
    "\n",
    "    muhat_over_sigma = np.random.normal(mu,size = 1000)\n",
    "    \n",
    "    linear = np.linspace(-5,5)\n",
    "    tmulin = teststat(mu,linear)\n",
    "    \n",
    "    tmu = teststat(mu,muhat_over_sigma)\n",
    "\n",
    "    ax = axarr[1,1]\n",
    "    ax.set_xlim(-5.5,5.5)\n",
    "\n",
    "    bins = np.linspace(-10,10,41)\n",
    "    ax.hist(muhat_over_sigma, density = False,bins = bins)\n",
    "    \n",
    "    ax.hist(muhat_over_sigma[tmu>tcut], density = False,bins = bins)\n",
    "\n",
    "    ax = axarr[0,1]\n",
    "    ax.set_ylim(-1,20)\n",
    "    ax.set_xlim(-5.5,5.5)\n",
    "    ax.set_yticks([])\n",
    "    ax.set_xticks([])\n",
    "    ax.scatter(muhat_over_sigma,tmu)\n",
    "    ax.scatter(muhat_over_sigma[tmu>tcut],tmu[tmu>tcut])\n",
    "    ax.plot(linear,tmulin)\n",
    "\n",
    "    ax = axarr[0,0]\n",
    "    bins = np.linspace(0,20,21)\n",
    "    ax.hist(tmu, orientation='horizontal', bins = bins, density = False)\n",
    "    ax.hist(tmu[tmu>tcut], orientation='horizontal', bins = bins, density = False)\n",
    "    ax.set_ylim(-1,20)\n",
    "    ax.set_xscale('log')\n",
    "    ax.set_xlim(100000,1e-1)\n",
    "    axarr[1,0].axis('off')\n",
    "    f.set_size_inches(5,5)"
   ]
  },
  {
   "cell_type": "code",
   "execution_count": 3,
   "metadata": {},
   "outputs": [
    {
     "data": {
      "image/png": "[encoded data removed]",
      "text/plain": [
       "<Figure size 360x360 with 4 Axes>"
      ]
     },
     "metadata": {
      "needs_background": "light"
     },
     "output_type": "display_data"
    }
   ],
   "source": [
    "def tmu_teststat(mu,muhat):\n",
    "    a = (mu-muhat)**2\n",
    "    return a\n",
    "\n",
    "jointplot(1.0,tmu_teststat)"
   ]
  },
  {
   "cell_type": "markdown",
   "metadata": {},
   "source": [
    "Assuming the asymptotic normality we assume $\\hat{\\mu} = \\mathcal{N}(\\mu',\\sigma)$ the normal distribution changes into a $\\chi^2$ distribution."
   ]
  },
  {
   "cell_type": "markdown",
   "metadata": {},
   "source": [
    "<p style=\"font-size: 16px; width: 50%;\">\n",
    "There are several important variation to this basic test statistic:\n",
    "<br/>\n",
    "For models in which the parameter we want to hypothesis tests on is bounded $\\mu >= 0$ we use\n",
    "<br/>\n",
    "$$\n",
    "\\tilde{t}_\\mu(x)=\n",
    "\\begin{cases}\n",
    "-2\\log\\frac{L(\\mu,\\hat{\\hat{\\theta}}|x)}{L(\\hat{\\mu},\\hat{\\theta}|x)}\\;\\text{if}\\;\\hat{\\mu}>=0\\\\ \n",
    "-2\\log\\frac{L(\\mu,\\hat{\\hat{\\theta}}|x)}{L(0,\\hat{\\theta}|x)}\\;\\text{if}\\;\\hat{\\mu}<0\n",
    "\\end{cases}\n",
    "$$\n",
    "<br/>\n",
    "Using the asymptotic approximation and $-2\\log\\frac{L(\\mu,\\hat{\\hat{\\theta}}|x)}{L(0,\\hat{\\theta}|x)} = -2\\log\\frac{L(\\mu,\\hat{\\hat{\\theta}}|x)}{L(\\hat{\\mu},\\hat{\\theta}|x)} - (-2\\log\\frac{L(0,\\hat{\\hat{\\theta}}|x)}{L(\\hat{\\mu},\\hat{\\theta}|x)})$\n",
    "<br/>\n",
    "we get\n",
    "<br/>\n",
    "$$\n",
    "\\tilde{t}_\\mu(x)=\n",
    "\\begin{cases}\n",
    "\\frac{(\\mu-\\hat\\mu)^2}{\\sigma^2}\\;\\text{if}\\;\\hat{\\mu}>=0\\\\ \n",
    "\\frac{(\\mu-\\hat\\mu)^2}{\\sigma^2} - \\frac{(0-\\hat\\mu)^2}{\\sigma^2} = \\frac{(\\mu-\\hat\\mu)^2-\\hat\\mu^2}{\\sigma^2}\\;\\text{if}\\;\\hat{\\mu}<0\n",
    "\\end{cases}\n",
    "$$\n",
    "</p>\n"
   ]
  },
  {
   "cell_type": "code",
   "execution_count": 4,
   "metadata": {},
   "outputs": [
    {
     "data": {
      "image/png": "[encoded data removed]",
      "text/plain": [
       "<Figure size 360x360 with 4 Axes>"
      ]
     },
     "metadata": {
      "needs_background": "light"
     },
     "output_type": "display_data"
    }
   ],
   "source": [
    "def tmu_tilde_teststat(mu,muhat):\n",
    "    a = tmu_teststat(mu,muhat)\n",
    "\n",
    "    b = (0-muhat)**2\n",
    "    r = np.where(muhat<0,a-b,a)\n",
    "    return r\n",
    "\n",
    "jointplot(1.0,tmu_tilde_teststat)"
   ]
  },
  {
   "cell_type": "markdown",
   "metadata": {},
   "source": [
    "<p style=\"font-size: 16px; width: 50%;\">\n",
    "In both of the above test statistics, deviation into both the positive and negative direction from the true value of the parameter $\\mu$, $\\mu'$ result in a large value of the test statistic. That is, having data  too far from $\\mu'$ in either direction may lead to that hypothesis being rejected. However in certain cases, one would like to penalize only a one direction and not the other.\n",
    "<br/>\n",
    "E.g. when the parameter of interest is a signal strength relating to a new physics process, the fact that the date produces a MLE estimate <i>larger</i> than the hypothesis being tested, should not count against the hypothesis.\n",
    "<br/>\n",
    "<br/>\n",
    "$$\n",
    "q_\\mu(x)=\n",
    "\\begin{cases}\n",
    "t_\\mu(x)\\;\\text{if}\\;\\hat{\\mu}<=\\mu\\\\ \n",
    "0\\;\\text{if}\\;\\hat{\\mu}>\\mu\n",
    "\\end{cases}\n",
    "$$\n",
    "</p>"
   ]
  },
  {
   "cell_type": "code",
   "execution_count": 5,
   "metadata": {},
   "outputs": [
    {
     "data": {
      "image/png": "[encoded data removed]",
      "text/plain": [
       "<Figure size 360x360 with 4 Axes>"
      ]
     },
     "metadata": {
      "needs_background": "light"
     },
     "output_type": "display_data"
    }
   ],
   "source": [
    "def qmu_teststat(mu,muhat):\n",
    "    r = tmu_teststat(mu,muhat)\n",
    "    zero = np.zeros_like(r)\n",
    "    r = np.where(muhat>mu,zero,r)\n",
    "    return r\n",
    "\n",
    "jointplot(1.0,qmu_teststat)"
   ]
  },
  {
   "cell_type": "markdown",
   "metadata": {},
   "source": [
    "<p style=\"font-size: 16px; width: 50%;\">\n",
    "The same precedure can be applied to bounded pararmeters $\\mu>0$\n",
    "<br/>\n",
    "<br/>\n",
    "$$\n",
    "\\tilde{q}_\\mu(x)=\n",
    "\\begin{cases}\n",
    "\\tilde{t}_\\mu(x)\\;\\text{if}\\;\\hat{\\mu}<=\\mu\\\\ \n",
    "0\\;\\text{if}\\;\\hat{\\mu}>\\mu\n",
    "\\end{cases}\n",
    "$$\n",
    "</p>"
   ]
  },
  {
   "cell_type": "code",
   "execution_count": 6,
   "metadata": {},
   "outputs": [
    {
     "data": {
      "image/png": "[encoded data removed]",
      "text/plain": [
       "<Figure size 360x360 with 4 Axes>"
      ]
     },
     "metadata": {
      "needs_background": "light"
     },
     "output_type": "display_data"
    }
   ],
   "source": [
    "def qmu_tilde_teststat(mu,muhat):\n",
    "    r = tmu_tilde_teststat(mu,muhat)\n",
    "    zero = np.zeros_like(r)\n",
    "    r = np.where(muhat>mu,zero,r)\n",
    "    return r\n",
    "\n",
    "jointplot(1.0,qmu_tilde_teststat)"
   ]
  },
  {
   "cell_type": "markdown",
   "metadata": {},
   "source": [
    " "
   ]
  },
  {
   "cell_type": "code",
   "execution_count": 7,
   "metadata": {},
   "outputs": [],
   "source": [
    "def get_interval(mu,level,teststat):\n",
    "    muhat = np.asarray([-1000,-900] + np.linspace(-50,50,5000).tolist() + [900,1000])\n",
    "\n",
    "    x = muhat-mu\n",
    "    q = teststat(mu,muhat)\n",
    "\n",
    "    a = x[np.argmax(q<level)]\n",
    "    b = x[::-1][np.argmax(q[::-1]<level)]\n",
    "\n",
    "    size = scipy.stats.norm.cdf(a) + 1-scipy.stats.norm.cdf(b)\n",
    "    return x,q,a,b,size\n",
    "\n",
    "def scan_tests_for_size(mu,teststat):\n",
    "    scan_results = []\n",
    "    for level in np.linspace(25,1e-3,2001):\n",
    "        result = x,q,a,b,size = get_interval(mu,level,teststat)\n",
    "        result = list(result)\n",
    "        scan_results.append([level,a,b,size])\n",
    "    return np.asarray(scan_results)\n",
    "\n",
    "def find_level_for_size(mu,target_size,teststat):\n",
    "    a = scan_tests_for_size(mu,teststat)\n",
    "    result = level,a,b,size = a[np.argmax(a[:,-1]>target_size)]\n",
    "    return level"
   ]
  },
  {
   "cell_type": "code",
   "execution_count": 8,
   "metadata": {},
   "outputs": [],
   "source": [
    "def plot_teststat(ax,min_mu,teststat):\n",
    "    muhat = np.linspace(-50,50,10000)\n",
    "\n",
    "    for mu in np.linspace(min_mu,5,21):\n",
    "        q = teststat(mu,muhat)\n",
    "        ax.plot(muhat-mu,q)\n",
    "\n",
    "    ax.set_xlim(-5,5)\n",
    "    ax.set_ylim(-1,25)\n",
    "    \n",
    "def plot_oneinterval(ax,mu,size,teststat):\n",
    "    level = find_level_for_size(mu,size, teststat)\n",
    "\n",
    "    x,q,a,b,size = get_interval(mu,level,teststat)\n",
    "    ax.plot(x,q)\n",
    "    ax.vlines([a,b],0,25)\n",
    "    ax.hlines([level],-20,20)\n",
    "    ax.set_ylim(0,16)\n",
    "    ax.set_xlim(-5,5)\n",
    "\n",
    "def plot_neyman_construction(ax,hypos,scans,delta = True):\n",
    "    if delta:\n",
    "        ax.plot(hypos+scans[:,1],hypos)\n",
    "        ax.plot(hypos+scans[:,2],hypos)\n",
    "    else:\n",
    "        ax.plot(scans[:,1],hypos)\n",
    "        ax.plot(scans[:,2],hypos)\n",
    "    ax.set_xlim(-5,5)\n",
    "    ax.set_ylim(min_mu,max_mu)\n",
    "    colors = ['r','b','k','g','y']\n",
    "    if delta:\n",
    "        ax.vlines([-2,-1,0,1,2],-5,5, colors = colors)\n",
    "    else:\n",
    "        deltas = np.linspace(-5,5)\n",
    "        for n,c in zip([-2,-1,0,1,2],colors):\n",
    "            ax.plot(deltas,n-deltas,c = c)\n",
    "        pass\n",
    "\n",
    "def plot_cuts(ax,hypos,intervals,teststat):\n",
    "    ax.plot(hypos,atcut[:,0])\n",
    "    ax.set_ylim(0,4)\n",
    "    \n",
    "    colors = ['r','b','k','g','y']\n",
    "    for n,c in zip([-2,-1,0,1,2],colors):\n",
    "        ax.plot(hypos,teststat(hypos,n),c=c) \n",
    "\n",
    "def plot_pvalue(ax,scans,teststat,cuts):\n",
    "    colors = ['r','b','k','g','y']\n",
    "    for c,n in zip(colors,[-2,-1,0,1,2]):\n",
    "        ax.plot(hypos,[np.interp(teststat(h,n),s[:-1,0][::-1],s[:-1,-1][::-1]) for s,h in zip(scans,hypos)],c=c)\n",
    "    ax.plot(hypos,[np.interp(c,s[:-1,0][::-1],s[:-1,-1][::-1]) for c,s,h in zip(cuts,scans,hypos)],c='steelblue')\n",
    "#     ax.set_xlim(0,1)"
   ]
  },
  {
   "cell_type": "code",
   "execution_count": null,
   "metadata": {},
   "outputs": [],
   "source": [
    "min_mu,max_mu,myteststat = 0,5, tmu_tilde_teststat\n",
    "# min_mu,max_mu,myteststat = 0,5, qmu_tilde_teststat\n",
    "# min_mu,max_mu,myteststat = -5,5, tmu_teststat\n",
    "# min_mu,max_mu,myteststat = -5,5, qmu_teststat\n",
    "\n",
    "hypos = np.linspace(min_mu,max_mu,50)\n",
    "scans = np.array([scan_tests_for_size(h,myteststat) for h in hypos])\n",
    "\n",
    "cuts  = np.argmax(scans[:,:,-1] > 0.05,axis=1)\n",
    "atcut = np.asarray([s[c] for s,c in zip(scans,cuts)])"
   ]
  },
  {
   "cell_type": "code",
   "execution_count": null,
   "metadata": {},
   "outputs": [],
   "source": [
    "f,axarr = plt.subplots(9,1)\n",
    "plot_teststat(axarr[0],min_mu,myteststat)\n",
    "plot_oneinterval(axarr[1],10.0,0.05,myteststat)\n",
    "plot_oneinterval(axarr[2],1.0,0.05,myteststat)\n",
    "plot_oneinterval(axarr[3],0.4,0.05,myteststat)\n",
    "plot_oneinterval(axarr[4],0.0,0.05,myteststat)\n",
    "plot_neyman_construction(axarr[5],hypos,atcut,delta = False)\n",
    "plot_neyman_construction(axarr[6],hypos,atcut)\n",
    "plot_cuts(axarr[7],hypos,atcut,myteststat)\n",
    "plot_pvalue(axarr[8],scans,myteststat,atcut[:,0])\n",
    "f.set_size_inches(3,24)"
   ]
  },
  {
   "cell_type": "code",
   "execution_count": null,
   "metadata": {},
   "outputs": [],
   "source": []
  }
 ],
 "metadata": {
  "kernelspec": {
   "display_name": "Python 3",
   "language": "python",
   "name": "python3"
  },
  "language_info": {
   "codemirror_mode": {
    "name": "ipython",
    "version": 3
   },
   "file_extension": ".py",
   "mimetype": "text/x-python",
   "name": "python",
   "nbconvert_exporter": "python",
   "pygments_lexer": "ipython3",
   "version": "3.7.2"
  }
 },
 "nbformat": 4,
 "nbformat_minor": 4
}
